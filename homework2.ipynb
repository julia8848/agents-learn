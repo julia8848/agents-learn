{
 "cells": [
  {
   "cell_type": "markdown",
   "metadata": {},
   "source": [
    "# Homework\n",
    "\n",
    "与 ChatGPT 深度对话，尝试使用 System role 提升报告质量和稳定性。fork 项目代码仓库（ https://github.com/DjangoPeng/GitHubSentinel ）之后修改里面的 llm.py 文件，修改好之后同步到自己 fork 后的仓库，然后在下方的作业提交框内提交 fork 后的仓库链接即可。"
   ]
  },
  {
   "cell_type": "code",
   "execution_count": 1,
   "metadata": {},
   "outputs": [],
   "source": [
    "# src/llm.py\n",
    "\n",
    "import json\n",
    "from openai import OpenAI\n",
    "\n",
    "class LLM:\n",
    "    def __init__(self):\n",
    "        self.client = OpenAI()\n",
    "        with open(\"prompts/report_prompt.txt\", \"r\", encoding='utf-8') as file:\n",
    "            self.system_prompt = file.read()\n",
    "\n",
    "\n",
    "    def generate_daily_report(self, markdown_content, dry_run=False):\n",
    "        messages = [\n",
    "            {\"role\": \"system\", \"content\": self.system_prompt},\n",
    "            {\"role\": \"user\", \"content\": markdown_content},\n",
    "        ]\n",
    "\n",
    "        if dry_run:\n",
    "            with open(\"daily_progress/prompt.txt\", \"w+\") as f:\n",
    "                f.write(json.dump(messages, f, indent=4, ensure_ascii=False))\n",
    "            return \"DRY RUN\"\n",
    "\n",
    "        print(\"------Before call GPT------\")\n",
    "        response = self.client.chat.completions.create(\n",
    "            model=\"gpt-4o-mini\",\n",
    "            messages=messages,\n",
    "        )\n",
    "        print(\"------After call GPT------\")\n",
    "        print(response)\n",
    "        return response.choices[0].message.content\n"
   ]
  },
  {
   "cell_type": "code",
   "execution_count": 2,
   "metadata": {},
   "outputs": [],
   "source": [
    "# src/report_generator.py\n",
    "\n",
    "import os\n",
    "from datetime import date\n",
    "\n",
    "class ReportGenerator:\n",
    "    def __init__(self, llm):\n",
    "        self.llm = llm\n",
    "\n",
    "    def generate_daily_report(self, markdown_file_path):\n",
    "        with open(markdown_file_path, 'r') as file:\n",
    "            markdown_content = file.read()\n",
    "\n",
    "        report = self.llm.generate_daily_report(markdown_content)\n",
    "\n",
    "        report_file_path = os.path.splitext(markdown_file_path)[0] + \"_report.md\"\n",
    "        with open(report_file_path, 'w+') as report_file:\n",
    "            report_file.write(report)\n",
    "\n",
    "        print(f\"Generated report saved to {report_file_path}\")\n"
   ]
  },
  {
   "cell_type": "code",
   "execution_count": 3,
   "metadata": {},
   "outputs": [],
   "source": [
    "llm = LLM()\n",
    "report_generator = ReportGenerator(llm=llm)"
   ]
  },
  {
   "cell_type": "code",
   "execution_count": 4,
   "metadata": {},
   "outputs": [
    {
     "name": "stdout",
     "output_type": "stream",
     "text": [
      "------Before call GPT------\n",
      "------After call GPT------\n",
      "ChatCompletion(id='chatcmpl-AFLClxjfYqeHWVLzCJqxXik6EyFY3', choices=[Choice(finish_reason='stop', index=0, logprobs=None, message=ChatCompletionMessage(content='# langchain-ai/langchain项目进展\\n\\n## 新增功能\\n- 支持将工具调用ID传递给工具运行 (#27138)\\n- 在Jina API中添加输入分割功能，以符合允许的长度 (#27136)\\n- 添加OpenAI提示缓存和推理令牌跟踪 (#27135)\\n- 实现Excel解析器并将其纳入O365加载器 (#27103)\\n- 添加针式检索器和文档加载器 (#27106)\\n- Cassandra向量存储扩展元数据相关方法 (#27078)\\n\\n## 主要改进\\n- 更新核心版本至0.2.42 (#27127)\\n- Azure数据库的PostgreSQL示例笔记本添加 (#27129)\\n- 更新OCI数据科学集成 (#27083)\\n- 更新README.md，提供从教程到用例的链接 (#27099)\\n- 改进社区中pgvector弃用警告格式 (#27094)\\n- 概念页面的初步草稿 (#27088)\\n\\n## 修复问题\\n- 修复来自数据库管理系统服务器的警告通知问题 (#27112)\\n- 修正“PromptTemplate”文档中的拼写错误 (#27108)\\n- AzureSearch模块修复空列表的重新排名问题 (#27104)\\n- 修复Playwright工具与Pydantic模式的bug (#27050)\\n- 解决langchain moonshotChat示例中的模型指定问题 (#27066)', refusal=None, role='assistant', function_call=None, tool_calls=None))], created=1728219795, model='gpt-4o-mini-2024-07-18', object='chat.completion', service_tier=None, system_fingerprint='fp_74ba47b4ac', usage=CompletionUsage(completion_tokens=305, prompt_tokens=1109, total_tokens=1414, completion_tokens_details=CompletionTokensDetails(audio_tokens=None, reasoning_tokens=0), prompt_tokens_details=PromptTokensDetails(audio_tokens=None, cached_tokens=0)))\n",
      "Generated report saved to daily_progress/langchain-ai_langchain_promt_opt_report.md\n"
     ]
    }
   ],
   "source": [
    "report_generator.generate_daily_report(\"daily_progress/langchain-ai_langchain_promt_opt.md\")"
   ]
  }
 ],
 "metadata": {
  "kernelspec": {
   "display_name": "Python 3 (ipykernel)",
   "language": "python",
   "name": "python3"
  },
  "language_info": {
   "codemirror_mode": {
    "name": "ipython",
    "version": 3
   },
   "file_extension": ".py",
   "mimetype": "text/x-python",
   "name": "python",
   "nbconvert_exporter": "python",
   "pygments_lexer": "ipython3",
   "version": "3.11.10"
  }
 },
 "nbformat": 4,
 "nbformat_minor": 4
}
