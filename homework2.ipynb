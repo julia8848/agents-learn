{
 "cells": [
  {
   "cell_type": "markdown",
   "metadata": {},
   "source": [
    "# Homework\n",
    "\n",
    "与 ChatGPT 深度对话，尝试使用 System role 提升报告质量和稳定性。fork 项目代码仓库（ https://github.com/DjangoPeng/GitHubSentinel ）之后修改里面的 llm.py 文件，修改好之后同步到自己 fork 后的仓库，然后在下方的作业提交框内提交 fork 后的仓库链接即可。"
   ]
  },
  {
   "cell_type": "code",
   "execution_count": 3,
   "metadata": {},
   "outputs": [],
   "source": [
    "# src/llm.py\n",
    "\n",
    "import json\n",
    "from openai import OpenAI\n",
    "\n",
    "class LLM:\n",
    "    def __init__(self):\n",
    "        self.client = OpenAI()\n",
    "        with open(\"prompts/report_prompt.txt\", \"r\", encoding='utf-8') as file:\n",
    "            self.system_prompt = file.read()\n",
    "\n",
    "\n",
    "    def generate_daily_report(self, markdown_content, dry_run=False):\n",
    "        messages = [\n",
    "            {\"role\": \"system\", \"content\": self.system_prompt},\n",
    "            {\"role\": \"user\", \"content\": markdown_content},\n",
    "        ]\n",
    "\n",
    "        if dry_run:\n",
    "            with open(\"daily_progress/prompt.txt\", \"w+\") as f:\n",
    "                f.write(json.dump(messages, f, indent=4, ensure_ascii=False))\n",
    "            return \"DRY RUN\"\n",
    "\n",
    "        print(\"------Before call GPT------\")\n",
    "        response = self.client.chat.completions.create(\n",
    "            model=\"gpt-4o-mini\",\n",
    "            messages=messages,\n",
    "        )\n",
    "        print(\"------After call GPT------\")\n",
    "        print(response)\n",
    "        return response.choices[0].message.content\n"
   ]
  },
  {
   "cell_type": "code",
   "execution_count": 4,
   "metadata": {},
   "outputs": [],
   "source": [
    "# src/report_generator.py\n",
    "\n",
    "import os\n",
    "from datetime import date\n",
    "\n",
    "class ReportGenerator:\n",
    "    def __init__(self, llm):\n",
    "        self.llm = llm\n",
    "\n",
    "    def generate_daily_report(self, markdown_file_path):\n",
    "        with open(markdown_file_path, 'r') as file:\n",
    "            markdown_content = file.read()\n",
    "\n",
    "        report = self.llm.generate_daily_report(markdown_content)\n",
    "\n",
    "        report_file_path = os.path.splitext(markdown_file_path)[0] + \"_report.md\"\n",
    "        with open(report_file_path, 'w+') as report_file:\n",
    "            report_file.write(report)\n",
    "\n",
    "        print(f\"Generated report saved to {report_file_path}\")\n"
   ]
  },
  {
   "cell_type": "code",
   "execution_count": 5,
   "metadata": {},
   "outputs": [],
   "source": [
    "llm = LLM()\n",
    "report_generator = ReportGenerator(llm=llm)"
   ]
  },
  {
   "cell_type": "code",
   "execution_count": null,
   "metadata": {},
   "outputs": [],
   "source": [
    "report_generator.generate_daily_report(\"daily_progress/langchain-ai_langchain_promt_opt.md\")"
   ]
  }
 ],
 "metadata": {
  "kernelspec": {
   "display_name": "Python 3 (ipykernel)",
   "language": "python",
   "name": "python3"
  },
  "language_info": {
   "codemirror_mode": {
    "name": "ipython",
    "version": 3
   },
   "file_extension": ".py",
   "mimetype": "text/x-python",
   "name": "python",
   "nbconvert_exporter": "python",
   "pygments_lexer": "ipython3",
   "version": "3.11.10"
  }
 },
 "nbformat": 4,
 "nbformat_minor": 4
}
